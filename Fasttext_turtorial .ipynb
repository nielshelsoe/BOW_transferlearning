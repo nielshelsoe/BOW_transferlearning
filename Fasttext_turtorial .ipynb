{
 "cells": [
  {
   "cell_type": "code",
   "execution_count": 1,
   "metadata": {},
   "outputs": [],
   "source": [
    "#import libs to use\n",
    "from src.preprocessing.metrics import get_metrics\n",
    "from sklearn.model_selection import train_test_split\n",
    "from src.model.fasttext import fasttext_pipeline\n",
    "from src.data.load_data import load_trustpilot_data\n",
    "from src.preprocessing.text_pre import clean_text\n",
    "import string"
   ]
  },
  {
   "cell_type": "code",
   "execution_count": 2,
   "metadata": {},
   "outputs": [],
   "source": [
    "df_trust = load_trustpilot_data()\n",
    "df_trust = clean_text(df_trust, 'text')"
   ]
  },
  {
   "cell_type": "code",
   "execution_count": 3,
   "metadata": {},
   "outputs": [],
   "source": [
    "#split data\n",
    "#OBS not that the text in give in a list in a list duo to the puntuation made above. \n",
    "X_train,X_test,y_train,y_test = train_test_split(df_trust[['text']], df_trust['y'], random_state=42)"
   ]
  },
  {
   "cell_type": "code",
   "execution_count": 4,
   "metadata": {},
   "outputs": [],
   "source": [
    "#train model\n",
    "model_fasttext = fasttext_pipeline(X_train, y_train)"
   ]
  },
  {
   "cell_type": "code",
   "execution_count": 5,
   "metadata": {},
   "outputs": [
    {
     "name": "stdout",
     "output_type": "stream",
     "text": [
      "roc_auc_score\n",
      "0.9450140114369723\n",
      "-------------------\n",
      "classification_report\n",
      "              precision    recall  f1-score   support\n",
      "\n",
      "           0       0.94      0.96      0.95     31932\n",
      "           1       0.96      0.93      0.94     31684\n",
      "\n",
      "   micro avg       0.95      0.95      0.95     63616\n",
      "   macro avg       0.95      0.95      0.95     63616\n",
      "weighted avg       0.95      0.95      0.95     63616\n",
      "\n",
      "-------------------\n",
      "confusion_matrix\n",
      "[[30561  1371]\n",
      " [ 2124 29560]]\n",
      "-------------------\n"
     ]
    }
   ],
   "source": [
    "# get performance\n",
    "get_metrics(model_fasttext, X_test, y_test)"
   ]
  },
  {
   "cell_type": "code",
   "execution_count": 6,
   "metadata": {},
   "outputs": [],
   "source": [
    "#save model\n",
    "#model_fasttext.named_steps[\"fastText\"].save_model('data/models/fastText.ft')"
   ]
  }
 ],
 "metadata": {
  "kernelspec": {
   "display_name": "pydata",
   "language": "python",
   "name": "pydata"
  },
  "language_info": {
   "codemirror_mode": {
    "name": "ipython",
    "version": 3
   },
   "file_extension": ".py",
   "mimetype": "text/x-python",
   "name": "python",
   "nbconvert_exporter": "python",
   "pygments_lexer": "ipython3",
   "version": "3.6.7"
  }
 },
 "nbformat": 4,
 "nbformat_minor": 2
}
