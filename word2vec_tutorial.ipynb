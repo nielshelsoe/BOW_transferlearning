{
 "cells": [
  {
   "cell_type": "code",
   "execution_count": 1,
   "metadata": {},
   "outputs": [],
   "source": [
    "import gensim\n",
    "from src.data.load_data import load_trustpilot_data\n",
    "from src.preprocessing.text_pre import clean_text\n",
    "df_trust = load_trustpilot_data()\n",
    "df_trust = clean_text(df_trust, 'text')"
   ]
  },
  {
   "cell_type": "code",
   "execution_count": 2,
   "metadata": {},
   "outputs": [],
   "source": [
    "def gensim_list(df):\n",
    "    for index,row in df.iterrows():\n",
    "        yield gensim.utils.simple_preprocess (row['text'])\n",
    "\n",
    "documents = list (gensim_list (df_trust))"
   ]
  },
  {
   "cell_type": "code",
   "execution_count": 3,
   "metadata": {},
   "outputs": [
    {
     "data": {
      "text/plain": [
       "(85804751, 119367250)"
      ]
     },
     "execution_count": 3,
     "metadata": {},
     "output_type": "execute_result"
    }
   ],
   "source": [
    "model = gensim.models.Word2Vec(\n",
    "        documents,#the documents\n",
    "        size=150, #The size of the dense vector to represent each token or word (the more data you higher)\n",
    "        window=10, # The maximum distance between the target word and its neighboring word\n",
    "        min_count=2, #Minimium frequency count of words\n",
    "        workers=10)\n",
    "model.train(documents, total_examples=len(documents), epochs=10)"
   ]
  },
  {
   "cell_type": "code",
   "execution_count": 4,
   "metadata": {},
   "outputs": [],
   "source": [
    "model.save('data/models/word2vec.model')"
   ]
  },
  {
   "cell_type": "code",
   "execution_count": 5,
   "metadata": {},
   "outputs": [],
   "source": [
    "word2vec_model = gensim.models.Word2Vec.load(\"data/models/word2vec.model\")"
   ]
  },
  {
   "cell_type": "code",
   "execution_count": 6,
   "metadata": {},
   "outputs": [
    {
     "data": {
      "text/plain": [
       "[('htc', 0.8151841759681702),\n",
       " ('lumia', 0.789225697517395),\n",
       " ('iphone', 0.7513282299041748),\n",
       " ('sony', 0.7183682322502136),\n",
       " ('huawei', 0.7068694829940796),\n",
       " ('ipod', 0.6850165128707886),\n",
       " ('mobiltelefon', 0.6808907985687256),\n",
       " ('wildfire', 0.6773123145103455),\n",
       " ('desire', 0.6687811017036438),\n",
       " ('galaxy', 0.6658984422683716)]"
      ]
     },
     "execution_count": 6,
     "metadata": {},
     "output_type": "execute_result"
    }
   ],
   "source": [
    "w1 = 'nokia'\n",
    "word2vec_model.wv.most_similar(positive=w1)"
   ]
  }
 ],
 "metadata": {
  "kernelspec": {
   "display_name": "Python 3",
   "language": "python",
   "name": "python3"
  },
  "language_info": {
   "codemirror_mode": {
    "name": "ipython",
    "version": 3
   },
   "file_extension": ".py",
   "mimetype": "text/x-python",
   "name": "python",
   "nbconvert_exporter": "python",
   "pygments_lexer": "ipython3",
   "version": "3.6.8"
  }
 },
 "nbformat": 4,
 "nbformat_minor": 2
}
