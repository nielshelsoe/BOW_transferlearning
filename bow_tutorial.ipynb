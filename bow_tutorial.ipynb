{
 "cells": [
  {
   "cell_type": "code",
   "execution_count": 1,
   "metadata": {},
   "outputs": [],
   "source": [
    "#import libs to use\n",
    "from src.preprocessing.metrics import get_metrics\n",
    "from sklearn.model_selection import train_test_split\n",
    "from src.model.bow import bow_pipeline\n",
    "from src.data.load_data import load_trustpilot_data\n",
    "from src.preprocessing.text_pre import clean_text\n",
    "import pandas as pd"
   ]
  },
  {
   "cell_type": "code",
   "execution_count": 2,
   "metadata": {},
   "outputs": [],
   "source": [
    "#load data\n",
    "df_trust = load_trustpilot_data()\n",
    "df_trust = clean_text(df_trust, 'text')\n",
    "\n",
    "#down sample\n",
    "#df0 = df_trust[df_trust['y'] == 0]\n",
    "#df0 = df0[:2000]\n",
    "\n",
    "#df1 = df_trust[df_trust['y'] == 1]\n",
    "#df1 = df1[:2000]\n",
    "\n",
    "#df_trust = pd.concat([df0.sample(df1.shape[0]),df1])"
   ]
  },
  {
   "cell_type": "code",
   "execution_count": 3,
   "metadata": {},
   "outputs": [],
   "source": [
    "#split data\n",
    "X_train,X_test,y_train,y_test = train_test_split(df_trust['text'], df_trust['y'], random_state=42 )"
   ]
  },
  {
   "cell_type": "code",
   "execution_count": 4,
   "metadata": {},
   "outputs": [
    {
     "name": "stdout",
     "output_type": "stream",
     "text": [
      "roc_auc_score\n",
      "0.9009302477491977\n",
      "-------------------\n",
      "classification_report\n",
      "              precision    recall  f1-score   support\n",
      "\n",
      "           0       0.90      0.90      0.90     31932\n",
      "           1       0.90      0.90      0.90     31684\n",
      "\n",
      "   micro avg       0.90      0.90      0.90     63616\n",
      "   macro avg       0.90      0.90      0.90     63616\n",
      "weighted avg       0.90      0.90      0.90     63616\n",
      "\n",
      "-------------------\n",
      "confusion_matrix\n",
      "[[28694  3238]\n",
      " [ 3065 28619]]\n",
      "-------------------\n",
      "CPU times: user 16min, sys: 17.3 s, total: 16min 18s\n",
      "Wall time: 16min 18s\n"
     ]
    }
   ],
   "source": [
    "%%time\n",
    "#train model\n",
    "model_bow = bow_pipeline(X_train, y_train)\n",
    "get_metrics(model_bow, X_test, y_test)"
   ]
  },
  {
   "cell_type": "code",
   "execution_count": 5,
   "metadata": {},
   "outputs": [],
   "source": [
    "#save model\n",
    "#from joblib import dump\n",
    "#dump(model_bow, 'data/models/bow_model.pkl')"
   ]
  },
  {
   "cell_type": "code",
   "execution_count": null,
   "metadata": {},
   "outputs": [],
   "source": []
  }
 ],
 "metadata": {
  "kernelspec": {
   "display_name": "Python 3",
   "language": "python",
   "name": "python3"
  },
  "language_info": {
   "codemirror_mode": {
    "name": "ipython",
    "version": 3
   },
   "file_extension": ".py",
   "mimetype": "text/x-python",
   "name": "python",
   "nbconvert_exporter": "python",
   "pygments_lexer": "ipython3",
   "version": "3.6.8"
  }
 },
 "nbformat": 4,
 "nbformat_minor": 2
}
